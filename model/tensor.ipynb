{
 "cells": [
  {
   "cell_type": "markdown",
   "metadata": {},
   "source": [
    "### tensorflow model"
   ]
  },
  {
   "cell_type": "code",
   "execution_count": 1,
   "metadata": {},
   "outputs": [],
   "source": [
    "res = 128\n",
    "\n",
    "movements = {\n",
    "    'snatch_deadlift': 0,\n",
    "    'snatch': 1,\n",
    "    'overhead_squat': 2,\n",
    "    'power_snatch': 3,\n",
    "    'deadlift': 4,\n",
    "    'clean': 5,\n",
    "    'front_squat': 6,\n",
    "    'power_clean': 7\n",
    "}"
   ]
  },
  {
   "cell_type": "code",
   "execution_count": 2,
   "metadata": {},
   "outputs": [],
   "source": [
    "def train_data():\n",
    "    data = []\n",
    "    target = []\n",
    "    foo = None\n",
    "    mvmt = -1\n",
    "    \n",
    "    for x in os.listdir('./images/training/'):\n",
    "        # open image\n",
    "        try:\n",
    "            foo = p.Image.open('./images/training/%s' % x)\n",
    "        except:\n",
    "            print('invalid file.. ')\n",
    "    \n",
    "        # downsize the image with an ANTIALIAS filter (gives the highest quality)\n",
    "        foo = foo.resize((res, res), p.Image.ANTIALIAS)\n",
    "    \n",
    "        # convert to pixel data\n",
    "        foo = foo.convert('L')\n",
    "        temp = np.array(foo.getdata()).reshape(res, res)\n",
    "        \n",
    "        # append to overall array\n",
    "        data.append(temp)\n",
    "    \n",
    "        if class_names[0] in x:\n",
    "            mvmt = 0\n",
    "        if class_names[1] in x:\n",
    "            mvmt = 1\n",
    "        if class_names[2] in x:\n",
    "            mvmt = 2\n",
    "        if class_names[3] in x:\n",
    "            mvmt = 3\n",
    "        if class_names[4] in x:\n",
    "            mvmt = 4\n",
    "        if class_names[5] in x:\n",
    "            mvmt = 5\n",
    "    \n",
    "        target.append(mvmt)\n",
    "        \n",
    "    return np.array(data), np.array(target).astype(int)\n"
   ]
  },
  {
   "cell_type": "code",
   "execution_count": 3,
   "metadata": {},
   "outputs": [],
   "source": [
    "# d, t = train_data()"
   ]
  },
  {
   "cell_type": "code",
   "execution_count": 4,
   "metadata": {},
   "outputs": [],
   "source": [
    "def split(data, target):\n",
    "    # scale the pixels to 0-1\n",
    "    data = data / 255.0\n",
    "    \n",
    "    # split the data\n",
    "    return train_test_split(data, target, test_size = 0.25)\n"
   ]
  },
  {
   "cell_type": "code",
   "execution_count": 5,
   "metadata": {},
   "outputs": [],
   "source": [
    "# x_train, x_test, y_train, y_test = split(d, t)"
   ]
  },
  {
   "cell_type": "code",
   "execution_count": 6,
   "metadata": {},
   "outputs": [],
   "source": [
    "def single_frame(data, frame):\n",
    "    plt.figure()\n",
    "    plt.imshow(data[frame])\n",
    "    plt.colorbar()\n",
    "    plt.grid(False)\n",
    "    plt.show()\n"
   ]
  },
  {
   "cell_type": "code",
   "execution_count": 7,
   "metadata": {},
   "outputs": [],
   "source": [
    "# single_frame(d, 12)"
   ]
  },
  {
   "cell_type": "code",
   "execution_count": 8,
   "metadata": {},
   "outputs": [],
   "source": [
    "def verify(data, target, num):\n",
    "    # confirm correctly formatted data\n",
    "    plt.figure(figsize = (10, 10))\n",
    "    for i in range(25):\n",
    "        temp = random.randint(0, num)\n",
    "        plt.subplot(5, 5, i + 1)\n",
    "        plt.xticks([])\n",
    "        plt.yticks([])\n",
    "        plt.grid(False)\n",
    "        plt.imshow(data[temp], cmap = plt.cm.binary)\n",
    "        plt.xlabel(class_names[target[temp]])\n",
    "    plt.show()\n"
   ]
  },
  {
   "cell_type": "code",
   "execution_count": 9,
   "metadata": {},
   "outputs": [],
   "source": [
    "# verify(d, t)"
   ]
  },
  {
   "cell_type": "code",
   "execution_count": 10,
   "metadata": {},
   "outputs": [],
   "source": [
    "def model_(data, target):\n",
    "    # build the model \n",
    "    model = keras.Sequential([\n",
    "        keras.layers.Flatten(input_shape = (res, res)),\n",
    "        keras.layers.Dense(128, activation = 'relu'),\n",
    "        keras.layers.Dense(10, activation = 'softmax')\n",
    "    ])\n",
    "    \n",
    "    # compile \n",
    "    model.compile(optimizer = 'adam',\n",
    "                  loss = 'sparse_categorical_crossentropy',\n",
    "                  metrics = ['accuracy'])\n",
    "    \n",
    "    # fit\n",
    "    model.fit(x_train, y_train, epochs = 10)\n",
    "    \n",
    "    # evaluate\n",
    "    test_loss, test_acc = model.evaluate(x_test,  y_test, verbose = 2)\n",
    "    print('\\ntest accuracy:', test_acc)\n",
    "\n",
    "    return model\n",
    "    "
   ]
  },
  {
   "cell_type": "code",
   "execution_count": 11,
   "metadata": {},
   "outputs": [],
   "source": [
    "# model = model(d, t)"
   ]
  },
  {
   "cell_type": "code",
   "execution_count": null,
   "metadata": {},
   "outputs": [],
   "source": [
    "predictions = model.predict(i)\n",
    "frame = 34\n",
    "predictions = predictions[frame]\n",
    "img = i[frame]\n",
    "color = 'blue'\n",
    "\n",
    "def img():\n",
    "    plt.grid(False)\n",
    "    plt.xticks([])\n",
    "    plt.yticks([])\n",
    "\n",
    "    plt.imshow(i[frame], cmap = plt.cm.binary)\n",
    "\n",
    "    predicted_label = np.argmax(predictions)\n",
    "\n",
    "    plt.xlabel(\"{} {:2.0f}%\".format(class_names[predicted_label],\n",
    "                                100 * np.max(predictions),\n",
    "                                color = color))\n",
    "    \n",
    "def vals():\n",
    "    plt.grid(False)\n",
    "    plt.xticks(range(10))\n",
    "    plt.yticks([])\n",
    "    thisplot = plt.bar(range(10), predictions, color=\"#777777\")\n",
    "    plt.ylim([0, 1])\n",
    "    predicted_label = np.argmax(predictions)\n",
    "\n",
    "    thisplot[predicted_label].set_color('blue')\n",
    "    \n",
    "    \n",
    "plt.subplot(1,2,1)\n",
    "img()\n",
    "plt.subplot(1,2,2)\n",
    "vals()\n",
    "plt.show()\n"
   ]
  }
 ],
 "metadata": {
  "kernelspec": {
   "display_name": "Python 3",
   "language": "python",
   "name": "python3"
  },
  "language_info": {
   "codemirror_mode": {
    "name": "ipython",
    "version": 3
   },
   "file_extension": ".py",
   "mimetype": "text/x-python",
   "name": "python",
   "nbconvert_exporter": "python",
   "pygments_lexer": "ipython3",
   "version": "3.7.3"
  }
 },
 "nbformat": 4,
 "nbformat_minor": 2
}
