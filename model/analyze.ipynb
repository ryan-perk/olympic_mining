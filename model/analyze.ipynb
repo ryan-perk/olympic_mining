{
 "cells": [
  {
   "cell_type": "code",
   "execution_count": 1,
   "metadata": {},
   "outputs": [],
   "source": [
    "# import functional libraries\n",
    "import numpy as np\n",
    "import pandas as pd\n",
    "import os\n",
    "import scipy\n",
    "import math\n",
    "import matplotlib.pyplot as plt\n",
    "import time\n",
    "import sys\n",
    "import cv2\n",
    "import util\n",
    "\n",
    "# export tree\n",
    "from sklearn.tree import export_graphviz\n",
    "from subprocess import call\n",
    "\n",
    "# prepreocessing\n",
    "from sklearn import preprocessing\n",
    "\n",
    "# classification\n",
    "from sklearn import metrics\n",
    "from sklearn.model_selection import train_test_split\n",
    "from sklearn.ensemble import RandomForestClassifier\n",
    "from sklearn.neighbors import KNeighborsClassifier\n",
    "from sklearn.linear_model import SGDClassifier\n",
    "from sklearn import svm\n",
    "from sklearn.gaussian_process import GaussianProcessClassifier\n",
    "from sklearn.gaussian_process.kernels import RBF, DotProduct, WhiteKernel\n",
    "from sklearn.gaussian_process import GaussianProcessRegressor\n",
    "from sklearn.neural_network import MLPClassifier\n",
    "from sklearn.cluster import KMeans\n"
   ]
  },
  {
   "cell_type": "code",
   "execution_count": 2,
   "metadata": {},
   "outputs": [
    {
     "ename": "FileNotFoundError",
     "evalue": "[Errno 2] File b'./output/data/full_dataset/everything.csv' does not exist: b'./output/data/full_dataset/everything.csv'",
     "output_type": "error",
     "traceback": [
      "\u001b[0;31m---------------------------------------------------------------------------\u001b[0m",
      "\u001b[0;31mFileNotFoundError\u001b[0m                         Traceback (most recent call last)",
      "\u001b[0;32m<ipython-input-2-ac3f84522063>\u001b[0m in \u001b[0;36m<module>\u001b[0;34m\u001b[0m\n\u001b[0;32m----> 1\u001b[0;31m \u001b[0mdf3\u001b[0m \u001b[0;34m=\u001b[0m \u001b[0mpd\u001b[0m\u001b[0;34m.\u001b[0m\u001b[0mread_csv\u001b[0m\u001b[0;34m(\u001b[0m\u001b[0;34m'./output/data/full_dataset/everything.csv'\u001b[0m\u001b[0;34m)\u001b[0m\u001b[0;34m\u001b[0m\u001b[0;34m\u001b[0m\u001b[0m\n\u001b[0m",
      "\u001b[0;32m~/anaconda3/lib/python3.7/site-packages/pandas/io/parsers.py\u001b[0m in \u001b[0;36mparser_f\u001b[0;34m(filepath_or_buffer, sep, delimiter, header, names, index_col, usecols, squeeze, prefix, mangle_dupe_cols, dtype, engine, converters, true_values, false_values, skipinitialspace, skiprows, skipfooter, nrows, na_values, keep_default_na, na_filter, verbose, skip_blank_lines, parse_dates, infer_datetime_format, keep_date_col, date_parser, dayfirst, cache_dates, iterator, chunksize, compression, thousands, decimal, lineterminator, quotechar, quoting, doublequote, escapechar, comment, encoding, dialect, error_bad_lines, warn_bad_lines, delim_whitespace, low_memory, memory_map, float_precision)\u001b[0m\n\u001b[1;32m    683\u001b[0m         )\n\u001b[1;32m    684\u001b[0m \u001b[0;34m\u001b[0m\u001b[0m\n\u001b[0;32m--> 685\u001b[0;31m         \u001b[0;32mreturn\u001b[0m \u001b[0m_read\u001b[0m\u001b[0;34m(\u001b[0m\u001b[0mfilepath_or_buffer\u001b[0m\u001b[0;34m,\u001b[0m \u001b[0mkwds\u001b[0m\u001b[0;34m)\u001b[0m\u001b[0;34m\u001b[0m\u001b[0;34m\u001b[0m\u001b[0m\n\u001b[0m\u001b[1;32m    686\u001b[0m \u001b[0;34m\u001b[0m\u001b[0m\n\u001b[1;32m    687\u001b[0m     \u001b[0mparser_f\u001b[0m\u001b[0;34m.\u001b[0m\u001b[0m__name__\u001b[0m \u001b[0;34m=\u001b[0m \u001b[0mname\u001b[0m\u001b[0;34m\u001b[0m\u001b[0;34m\u001b[0m\u001b[0m\n",
      "\u001b[0;32m~/anaconda3/lib/python3.7/site-packages/pandas/io/parsers.py\u001b[0m in \u001b[0;36m_read\u001b[0;34m(filepath_or_buffer, kwds)\u001b[0m\n\u001b[1;32m    455\u001b[0m \u001b[0;34m\u001b[0m\u001b[0m\n\u001b[1;32m    456\u001b[0m     \u001b[0;31m# Create the parser.\u001b[0m\u001b[0;34m\u001b[0m\u001b[0;34m\u001b[0m\u001b[0;34m\u001b[0m\u001b[0m\n\u001b[0;32m--> 457\u001b[0;31m     \u001b[0mparser\u001b[0m \u001b[0;34m=\u001b[0m \u001b[0mTextFileReader\u001b[0m\u001b[0;34m(\u001b[0m\u001b[0mfp_or_buf\u001b[0m\u001b[0;34m,\u001b[0m \u001b[0;34m**\u001b[0m\u001b[0mkwds\u001b[0m\u001b[0;34m)\u001b[0m\u001b[0;34m\u001b[0m\u001b[0;34m\u001b[0m\u001b[0m\n\u001b[0m\u001b[1;32m    458\u001b[0m \u001b[0;34m\u001b[0m\u001b[0m\n\u001b[1;32m    459\u001b[0m     \u001b[0;32mif\u001b[0m \u001b[0mchunksize\u001b[0m \u001b[0;32mor\u001b[0m \u001b[0miterator\u001b[0m\u001b[0;34m:\u001b[0m\u001b[0;34m\u001b[0m\u001b[0;34m\u001b[0m\u001b[0m\n",
      "\u001b[0;32m~/anaconda3/lib/python3.7/site-packages/pandas/io/parsers.py\u001b[0m in \u001b[0;36m__init__\u001b[0;34m(self, f, engine, **kwds)\u001b[0m\n\u001b[1;32m    893\u001b[0m             \u001b[0mself\u001b[0m\u001b[0;34m.\u001b[0m\u001b[0moptions\u001b[0m\u001b[0;34m[\u001b[0m\u001b[0;34m\"has_index_names\"\u001b[0m\u001b[0;34m]\u001b[0m \u001b[0;34m=\u001b[0m \u001b[0mkwds\u001b[0m\u001b[0;34m[\u001b[0m\u001b[0;34m\"has_index_names\"\u001b[0m\u001b[0;34m]\u001b[0m\u001b[0;34m\u001b[0m\u001b[0;34m\u001b[0m\u001b[0m\n\u001b[1;32m    894\u001b[0m \u001b[0;34m\u001b[0m\u001b[0m\n\u001b[0;32m--> 895\u001b[0;31m         \u001b[0mself\u001b[0m\u001b[0;34m.\u001b[0m\u001b[0m_make_engine\u001b[0m\u001b[0;34m(\u001b[0m\u001b[0mself\u001b[0m\u001b[0;34m.\u001b[0m\u001b[0mengine\u001b[0m\u001b[0;34m)\u001b[0m\u001b[0;34m\u001b[0m\u001b[0;34m\u001b[0m\u001b[0m\n\u001b[0m\u001b[1;32m    896\u001b[0m \u001b[0;34m\u001b[0m\u001b[0m\n\u001b[1;32m    897\u001b[0m     \u001b[0;32mdef\u001b[0m \u001b[0mclose\u001b[0m\u001b[0;34m(\u001b[0m\u001b[0mself\u001b[0m\u001b[0;34m)\u001b[0m\u001b[0;34m:\u001b[0m\u001b[0;34m\u001b[0m\u001b[0;34m\u001b[0m\u001b[0m\n",
      "\u001b[0;32m~/anaconda3/lib/python3.7/site-packages/pandas/io/parsers.py\u001b[0m in \u001b[0;36m_make_engine\u001b[0;34m(self, engine)\u001b[0m\n\u001b[1;32m   1133\u001b[0m     \u001b[0;32mdef\u001b[0m \u001b[0m_make_engine\u001b[0m\u001b[0;34m(\u001b[0m\u001b[0mself\u001b[0m\u001b[0;34m,\u001b[0m \u001b[0mengine\u001b[0m\u001b[0;34m=\u001b[0m\u001b[0;34m\"c\"\u001b[0m\u001b[0;34m)\u001b[0m\u001b[0;34m:\u001b[0m\u001b[0;34m\u001b[0m\u001b[0;34m\u001b[0m\u001b[0m\n\u001b[1;32m   1134\u001b[0m         \u001b[0;32mif\u001b[0m \u001b[0mengine\u001b[0m \u001b[0;34m==\u001b[0m \u001b[0;34m\"c\"\u001b[0m\u001b[0;34m:\u001b[0m\u001b[0;34m\u001b[0m\u001b[0;34m\u001b[0m\u001b[0m\n\u001b[0;32m-> 1135\u001b[0;31m             \u001b[0mself\u001b[0m\u001b[0;34m.\u001b[0m\u001b[0m_engine\u001b[0m \u001b[0;34m=\u001b[0m \u001b[0mCParserWrapper\u001b[0m\u001b[0;34m(\u001b[0m\u001b[0mself\u001b[0m\u001b[0;34m.\u001b[0m\u001b[0mf\u001b[0m\u001b[0;34m,\u001b[0m \u001b[0;34m**\u001b[0m\u001b[0mself\u001b[0m\u001b[0;34m.\u001b[0m\u001b[0moptions\u001b[0m\u001b[0;34m)\u001b[0m\u001b[0;34m\u001b[0m\u001b[0;34m\u001b[0m\u001b[0m\n\u001b[0m\u001b[1;32m   1136\u001b[0m         \u001b[0;32melse\u001b[0m\u001b[0;34m:\u001b[0m\u001b[0;34m\u001b[0m\u001b[0;34m\u001b[0m\u001b[0m\n\u001b[1;32m   1137\u001b[0m             \u001b[0;32mif\u001b[0m \u001b[0mengine\u001b[0m \u001b[0;34m==\u001b[0m \u001b[0;34m\"python\"\u001b[0m\u001b[0;34m:\u001b[0m\u001b[0;34m\u001b[0m\u001b[0;34m\u001b[0m\u001b[0m\n",
      "\u001b[0;32m~/anaconda3/lib/python3.7/site-packages/pandas/io/parsers.py\u001b[0m in \u001b[0;36m__init__\u001b[0;34m(self, src, **kwds)\u001b[0m\n\u001b[1;32m   1915\u001b[0m         \u001b[0mkwds\u001b[0m\u001b[0;34m[\u001b[0m\u001b[0;34m\"usecols\"\u001b[0m\u001b[0;34m]\u001b[0m \u001b[0;34m=\u001b[0m \u001b[0mself\u001b[0m\u001b[0;34m.\u001b[0m\u001b[0musecols\u001b[0m\u001b[0;34m\u001b[0m\u001b[0;34m\u001b[0m\u001b[0m\n\u001b[1;32m   1916\u001b[0m \u001b[0;34m\u001b[0m\u001b[0m\n\u001b[0;32m-> 1917\u001b[0;31m         \u001b[0mself\u001b[0m\u001b[0;34m.\u001b[0m\u001b[0m_reader\u001b[0m \u001b[0;34m=\u001b[0m \u001b[0mparsers\u001b[0m\u001b[0;34m.\u001b[0m\u001b[0mTextReader\u001b[0m\u001b[0;34m(\u001b[0m\u001b[0msrc\u001b[0m\u001b[0;34m,\u001b[0m \u001b[0;34m**\u001b[0m\u001b[0mkwds\u001b[0m\u001b[0;34m)\u001b[0m\u001b[0;34m\u001b[0m\u001b[0;34m\u001b[0m\u001b[0m\n\u001b[0m\u001b[1;32m   1918\u001b[0m         \u001b[0mself\u001b[0m\u001b[0;34m.\u001b[0m\u001b[0munnamed_cols\u001b[0m \u001b[0;34m=\u001b[0m \u001b[0mself\u001b[0m\u001b[0;34m.\u001b[0m\u001b[0m_reader\u001b[0m\u001b[0;34m.\u001b[0m\u001b[0munnamed_cols\u001b[0m\u001b[0;34m\u001b[0m\u001b[0;34m\u001b[0m\u001b[0m\n\u001b[1;32m   1919\u001b[0m \u001b[0;34m\u001b[0m\u001b[0m\n",
      "\u001b[0;32mpandas/_libs/parsers.pyx\u001b[0m in \u001b[0;36mpandas._libs.parsers.TextReader.__cinit__\u001b[0;34m()\u001b[0m\n",
      "\u001b[0;32mpandas/_libs/parsers.pyx\u001b[0m in \u001b[0;36mpandas._libs.parsers.TextReader._setup_parser_source\u001b[0;34m()\u001b[0m\n",
      "\u001b[0;31mFileNotFoundError\u001b[0m: [Errno 2] File b'./output/data/full_dataset/everything.csv' does not exist: b'./output/data/full_dataset/everything.csv'"
     ]
    }
   ],
   "source": [
    "df3 = pd.read_csv('./output/data/full_dataset/everything.csv')"
   ]
  },
  {
   "cell_type": "code",
   "execution_count": 442,
   "metadata": {},
   "outputs": [
    {
     "name": "stdout",
     "output_type": "stream",
     "text": [
      "forest accuracy: 0.9575221238938053\n",
      "snatch_deadlift: 0\n",
      "snatch: 1\n",
      "overhead_squat: 0\n",
      "power_snatch: 1\n",
      "deadlift: 0\n",
      "clean: 0\n",
      "front_squat: 1\n",
      "power_clean: 0\n",
      "\n",
      "forest accuracy: 0.9805309734513274\n",
      "snatch_deadlift: 0\n",
      "snatch: 1\n",
      "overhead_squat: 1\n",
      "power_snatch: 0\n",
      "deadlift: 0\n",
      "clean: 1\n",
      "front_squat: 0\n",
      "power_clean: 0\n",
      "\n",
      "forest accuracy: 0.9858407079646018\n",
      "snatch_deadlift: 0\n",
      "snatch: 1\n",
      "overhead_squat: 1\n",
      "power_snatch: 0\n",
      "deadlift: 0\n",
      "clean: 1\n",
      "front_squat: 0\n",
      "power_clean: 0\n",
      "\n"
     ]
    }
   ],
   "source": [
    "snatch_deadlift_tot = 0\n",
    "snatch_tot = 0\n",
    "overhead_squat_tot = 0\n",
    "power_snatch_tot = 0\n",
    "deadlift_tot = 0\n",
    "clean_tot = 0\n",
    "front_squat_tot = 0\n",
    "power_clean_tot = 0\n",
    "\n",
    "for i in range(3):\n",
    "    # extract features and target data\n",
    "    mvmt_data = df3.loc[:, '18':'85']\n",
    "    mvmt_target = df3.loc[:, '86']\n",
    "\n",
    "    # split \n",
    "    x_train, x_test, y_train, y_test = train_test_split(mvmt_data, \n",
    "                                                    mvmt_target.astype('int'), \n",
    "                                                    test_size = 0.25)\n",
    "\n",
    "    # RANDOM FOREST - maybe....\n",
    "\n",
    "    # create model \n",
    "    rf = RandomForestClassifier(n_estimators = 50, \n",
    "                            random_state = 0)\n",
    "\n",
    "    # fit the model\n",
    "    rf.fit(x_train, y_train)\n",
    "\n",
    "    # ROC data\n",
    "    predicted_rf = np.array(rf.predict_proba(x_test))[:,1]\n",
    "\n",
    "    # predict\n",
    "    y_pred = rf.predict(x_test)\n",
    "\n",
    "    # print\n",
    "    print('forest accuracy: %s' % metrics.accuracy_score(y_test, y_pred))\n",
    "\n",
    "\n",
    "    # extract features and target data\n",
    "    df4 = pd.read_csv('./output/data/test_6_time_data.csv')\n",
    "    df4 = df4.fillna(0)\n",
    "    test_data = df4.loc[:, '18':'85']\n",
    "    test_target = df4.loc[:, '86']\n",
    "\n",
    "    # predict\n",
    "    y_pred = rf.predict(test_data)\n",
    "\n",
    "    snatch_deadlift = 0\n",
    "    snatch = 0\n",
    "    overhead_squat = 0\n",
    "    power_snatch = 0\n",
    "    deadlift = 0\n",
    "    clean = 0\n",
    "    front_squat = 0\n",
    "    power_clean = 0\n",
    "\n",
    "    for i in y_pred:\n",
    "        if i == 0:\n",
    "            snatch_deadlift += 1\n",
    "        elif i == 1:\n",
    "            snatch += 1\n",
    "        elif i == 2:\n",
    "            overhead_squat += 1\n",
    "        elif i == 3:\n",
    "            power_snatch += 1\n",
    "        elif i == 4:\n",
    "            deadlift += 1\n",
    "        elif i == 5:\n",
    "            clean += 1\n",
    "        elif i == 6:\n",
    "            front_squat += 1\n",
    "        elif i == 7:\n",
    "            power_clean += 1\n",
    "            \n",
    "    snatch_deadlift_tot += snatch_deadlift\n",
    "    snatch_tot += snatch\n",
    "    overhead_squat_tot += overhead_squat\n",
    "    power_snatch_tot += power_snatch\n",
    "    deadlift_tot += deadlift\n",
    "    clean_tot += clean\n",
    "    front_squat_tot += front_squat\n",
    "    power_clean_tot += power_clean\n",
    "        \n",
    "    print('snatch_deadlift: %d' % snatch_deadlift)\n",
    "    print('snatch: %d' % snatch)\n",
    "    print('overhead_squat: %d' % overhead_squat)\n",
    "    print('power_snatch: %d' % power_snatch)\n",
    "    print('deadlift: %d' % deadlift)\n",
    "    print('clean: %d' % clean)\n",
    "    print('front_squat: %d' % front_squat)\n",
    "    print('power_clean: %d\\n' % power_clean)\n",
    "    "
   ]
  },
  {
   "cell_type": "code",
   "execution_count": 443,
   "metadata": {},
   "outputs": [],
   "source": [
    "def classify(sd, s, ohs, ps, d, c, fs, pc):\n",
    "    if (sd + s + ohs + ps) < (d + c + fs + pc):\n",
    "        if fs > pc:\n",
    "            print('clean')\n",
    "        else:\n",
    "            print('power_clean')\n",
    "    else:\n",
    "        if ohs > ps:\n",
    "            print('snatch')\n",
    "        else:\n",
    "            print('power_snatch')\n",
    "    "
   ]
  },
  {
   "cell_type": "code",
   "execution_count": 444,
   "metadata": {},
   "outputs": [
    {
     "name": "stdout",
     "output_type": "stream",
     "text": [
      "snatch\n"
     ]
    }
   ],
   "source": [
    "classify(snatch_deadlift_tot, snatch_tot, overhead_squat_tot, power_snatch_tot, \n",
    "         deadlift_tot, clean_tot, front_squat_tot, power_clean_tot)\n"
   ]
  },
  {
   "cell_type": "code",
   "execution_count": null,
   "metadata": {},
   "outputs": [],
   "source": []
  },
  {
   "cell_type": "code",
   "execution_count": null,
   "metadata": {},
   "outputs": [],
   "source": []
  },
  {
   "cell_type": "code",
   "execution_count": 11,
   "metadata": {},
   "outputs": [
    {
     "data": {
      "image/png": "[encoded data removed]",
      "text/plain": [
       "<Figure size 432x288 with 1 Axes>"
      ]
     },
     "metadata": {
      "needs_background": "light"
     },
     "output_type": "display_data"
    }
   ],
   "source": [
    "temp = [1, 5, 10, 25, 50, 100, 250]\n",
    "\n",
    "for i in temp:\n",
    "    x = list(range(50))\n",
    "    y = []\n",
    "    for j in range(50):\n",
    "        # extract features and target data\n",
    "        mvmt_data = df3.loc[:, '0':'85']\n",
    "        mvmt_target = df3.loc[:, '86']\n",
    "        x_train, x_test, y_train, y_test = train_test_split(mvmt_data, \n",
    "                                                    mvmt_target.astype('int'), \n",
    "                                                    test_size = 0.25)\n",
    "        # create model \n",
    "        rf = RandomForestClassifier(n_estimators = i, \n",
    "                            random_state = 0)\n",
    "\n",
    "        # fit the model\n",
    "        rf.fit(x_train, y_train)\n",
    "        \n",
    "        # predict\n",
    "        y_pred = rf.predict(x_test)\n",
    "        y.append(metrics.accuracy_score(y_test, y_pred))\n",
    "        \n",
    "    plt.plot(x, y, label=i)\n",
    "    plt.legend()"
   ]
  },
  {
   "cell_type": "code",
   "execution_count": null,
   "metadata": {},
   "outputs": [],
   "source": []
  },
  {
   "cell_type": "code",
   "execution_count": null,
   "metadata": {},
   "outputs": [],
   "source": []
  },
  {
   "cell_type": "code",
   "execution_count": null,
   "metadata": {},
   "outputs": [],
   "source": []
  },
  {
   "cell_type": "code",
   "execution_count": 9,
   "metadata": {},
   "outputs": [],
   "source": [
    "# feature importances\n",
    "fi = pd.DataFrame({'feature': list(x_train.columns),\n",
    "                   'importance': rf.feature_importances_}).\\\n",
    "                    sort_values('importance', ascending = False)\n"
   ]
  },
  {
   "cell_type": "code",
   "execution_count": 221,
   "metadata": {},
   "outputs": [
    {
     "data": {
      "text/html": [
       "<div>\n",
       "<style scoped>\n",
       "    .dataframe tbody tr th:only-of-type {\n",
       "        vertical-align: middle;\n",
       "    }\n",
       "\n",
       "    .dataframe tbody tr th {\n",
       "        vertical-align: top;\n",
       "    }\n",
       "\n",
       "    .dataframe thead th {\n",
       "        text-align: right;\n",
       "    }\n",
       "</style>\n",
       "<table border=\"1\" class=\"dataframe\">\n",
       "  <thead>\n",
       "    <tr style=\"text-align: right;\">\n",
       "      <th></th>\n",
       "      <th>feature</th>\n",
       "      <th>importance</th>\n",
       "    </tr>\n",
       "  </thead>\n",
       "  <tbody>\n",
       "    <tr>\n",
       "      <th>20</th>\n",
       "      <td>20</td>\n",
       "      <td>0.057662</td>\n",
       "    </tr>\n",
       "    <tr>\n",
       "      <th>52</th>\n",
       "      <td>52</td>\n",
       "      <td>0.057383</td>\n",
       "    </tr>\n",
       "    <tr>\n",
       "      <th>54</th>\n",
       "      <td>54</td>\n",
       "      <td>0.054077</td>\n",
       "    </tr>\n",
       "    <tr>\n",
       "      <th>72</th>\n",
       "      <td>72</td>\n",
       "      <td>0.053291</td>\n",
       "    </tr>\n",
       "    <tr>\n",
       "      <th>18</th>\n",
       "      <td>18</td>\n",
       "      <td>0.046318</td>\n",
       "    </tr>\n",
       "    <tr>\n",
       "      <th>...</th>\n",
       "      <td>...</td>\n",
       "      <td>...</td>\n",
       "    </tr>\n",
       "    <tr>\n",
       "      <th>16</th>\n",
       "      <td>16</td>\n",
       "      <td>0.000453</td>\n",
       "    </tr>\n",
       "    <tr>\n",
       "      <th>14</th>\n",
       "      <td>14</td>\n",
       "      <td>0.000434</td>\n",
       "    </tr>\n",
       "    <tr>\n",
       "      <th>7</th>\n",
       "      <td>7</td>\n",
       "      <td>0.000426</td>\n",
       "    </tr>\n",
       "    <tr>\n",
       "      <th>10</th>\n",
       "      <td>10</td>\n",
       "      <td>0.000365</td>\n",
       "    </tr>\n",
       "    <tr>\n",
       "      <th>1</th>\n",
       "      <td>1</td>\n",
       "      <td>0.000355</td>\n",
       "    </tr>\n",
       "  </tbody>\n",
       "</table>\n",
       "<p>86 rows × 2 columns</p>\n",
       "</div>"
      ],
      "text/plain": [
       "   feature  importance\n",
       "20      20    0.057662\n",
       "52      52    0.057383\n",
       "54      54    0.054077\n",
       "72      72    0.053291\n",
       "18      18    0.046318\n",
       "..     ...         ...\n",
       "16      16    0.000453\n",
       "14      14    0.000434\n",
       "7        7    0.000426\n",
       "10      10    0.000365\n",
       "1        1    0.000355\n",
       "\n",
       "[86 rows x 2 columns]"
      ]
     },
     "execution_count": 221,
     "metadata": {},
     "output_type": "execute_result"
    }
   ],
   "source": [
    "fi"
   ]
  },
  {
   "cell_type": "code",
   "execution_count": 10,
   "metadata": {},
   "outputs": [],
   "source": [
    "# features dictionary\n",
    "features = {\n",
    "    'nose': 0,\n",
    "    'neck': 1,\n",
    "    'Rsho': 2,\n",
    "    'Relb': 3,\n",
    "    'Rwri': 4,\n",
    "    'Lsho': 5,\n",
    "    'Lelb': 6,\n",
    "    'Lwri': 7,\n",
    "    'Rhip': 8,\n",
    "    'Rkne': 9,\n",
    "    'Rank': 10,\n",
    "    'Lhip': 11,\n",
    "    'Lkne': 12,\n",
    "    'Lank': 13,\n",
    "    'Leye': 14,\n",
    "    'Reye': 15,\n",
    "    'Lear': 16,\n",
    "    'Rear': 17,\n",
    "    'Rwri_Lwri': 18,\n",
    "    'Rwri_Lwri_delta': 19,\n",
    "    'Relb_Lelb': 20,\n",
    "    'Relb_Lelb_delta': 21,\n",
    "    'Rwri_Relb': 22,\n",
    "    'Rwri_Relb_delta': 23,\n",
    "    'Rwri_Rsho': 24,\n",
    "    'Rwri_Rsho_delta': 25,\n",
    "    'Relb_Rsho': 26,\n",
    "    'Relb_Rsho_delta': 27,\n",
    "    'Lwri_Lelb': 28,\n",
    "    'Lwri_Lelb_delta': 29,\n",
    "    'Lwri_Lsho': 30,\n",
    "    'Lwri_Lsho_delta': 31,\n",
    "    'Lelb_Lsho': 32,\n",
    "    'Lelb_Lsho_delta': 33,\n",
    "    'Rank_Rkne': 34,\n",
    "    'Rank_Rkne_delta': 35,\n",
    "    'Rank_Rhip': 36,\n",
    "    'Rank_Rhip_delta': 37,\n",
    "    'Rkne_Rhip': 38,\n",
    "    'Rkne_Rhip_delta': 39,\n",
    "    'Lank_Lkne': 40,\n",
    "    'Lank_Lkne_delta': 41,\n",
    "    'Lank_Lhip': 42,\n",
    "    'Lank_Lhip_delta': 43,\n",
    "    'Lkne_Lhip': 44,\n",
    "    'Lkne_Lhip_delta': 45,\n",
    "    'Rwri_Rhip': 46,\n",
    "    'Rwri_Rhip_delta': 47,\n",
    "    'Rwri_Rkne': 48,\n",
    "    'Rwri_Rkne_delta': 49,\n",
    "    'Rwri_Rank': 50,\n",
    "    'Rwri_Rank_delta': 51,\n",
    "    'Lwri_Lhip': 52,\n",
    "    'Lwri_Lhip_delta': 53,\n",
    "    'Lwri_Lkne': 54,\n",
    "    'Lwri_Lkne_delta': 55,\n",
    "    'Lwri_Lank': 56,\n",
    "    'Lwri_Lank_delta': 57,\n",
    "    'Relb_Rkne': 58,\n",
    "    'Relb_Rkne_delta': 59,\n",
    "    'Relb_Rank': 60,\n",
    "    'Relb_Rank_delta': 61,\n",
    "    'Lelb_Lkne': 62,\n",
    "    'Lelb_Lkne_delta': 63,\n",
    "    'Lelb_Lank': 64,\n",
    "    'Lelb_Lank_delta': 65,\n",
    "    'nose_Rank': 66,\n",
    "    'nose_Rank_delta': 67,\n",
    "    'nose_Lank': 68,\n",
    "    'nose_Lank_delta': 69,\n",
    "    'nose_Rkne': 70,\n",
    "    'nose_Rkne_delta': 71,\n",
    "    'nose_Lkne': 72,\n",
    "    'nose_Lkne_delta': 73,\n",
    "    'nose_Rhip': 74,\n",
    "    'nose_Rhip_delta': 75,\n",
    "    'nose_Lhip': 76,\n",
    "    'nose_Lhip_delta': 77,\n",
    "    'nose_Rwri': 78,\n",
    "    'nose_Rwri_delta': 79,\n",
    "    'nose_Lwri': 80,\n",
    "    'nose_Lwri_delta': 81,\n",
    "    'nose_Relb': 82,\n",
    "    'nose_Relb_delta': 83,\n",
    "    'nose_Lelb': 84,\n",
    "    'nose_Lelb_delta': 85\n",
    "}\n"
   ]
  },
  {
   "cell_type": "code",
   "execution_count": 11,
   "metadata": {},
   "outputs": [],
   "source": [
    "# movements dictionary \n",
    "movements = {\n",
    "    'snatch_deadlift': 0,\n",
    "    'snatch': 1,\n",
    "    'overhead_squat': 2,\n",
    "    'power_snatch': 3,\n",
    "    'deadlift': 4,\n",
    "    'clean': 5,\n",
    "    'front_squat': 6,\n",
    "    'power_clean': 7\n",
    "}\n"
   ]
  },
  {
   "cell_type": "code",
   "execution_count": 14,
   "metadata": {},
   "outputs": [
    {
     "data": {
      "text/plain": [
       "0"
      ]
     },
     "execution_count": 14,
     "metadata": {},
     "output_type": "execute_result"
    }
   ],
   "source": [
    "# save an image from one of the decision trees in the model\n",
    "tree = 31\n",
    "\n",
    "f = list(features.keys())\n",
    "c = list(movements.keys()) \n",
    "\n",
    "# Export as dot file\n",
    "export_graphviz(rf.estimators_[tree], out_file='tree.dot', \n",
    "                feature_names = f,\n",
    "                class_names = c,\n",
    "                rounded = True, proportion = False, \n",
    "                precision = 2, filled = True)\n",
    "\n",
    "# Convert to png using system command (requires Graphviz)\n",
    "call(['dot', '-Tpng', 'tree.dot', '-o', 'tree.jpg', '-Gdpi=600'])\n"
   ]
  },
  {
   "cell_type": "code",
   "execution_count": null,
   "metadata": {},
   "outputs": [],
   "source": []
  },
  {
   "cell_type": "code",
   "execution_count": null,
   "metadata": {},
   "outputs": [],
   "source": []
  },
  {
   "cell_type": "code",
   "execution_count": null,
   "metadata": {},
   "outputs": [],
   "source": []
  },
  {
   "cell_type": "code",
   "execution_count": 99,
   "metadata": {},
   "outputs": [
    {
     "data": {
      "image/png": "[encoded data removed]",
      "text/plain": [
       "<Figure size 432x288 with 1 Axes>"
      ]
     },
     "metadata": {
      "needs_background": "light"
     },
     "output_type": "display_data"
    }
   ],
   "source": [
    "for index, row in temp.iterrows():\n",
    "    for i in row:\n",
    "        try:\n",
    "            x = float(i.split('(')[1].split(',')[0])\n",
    "            y = float(i.split(',')[1].split(')')[0])\n",
    "            plt.scatter(x, y)\n",
    "        except:\n",
    "            continue"
   ]
  },
  {
   "cell_type": "code",
   "execution_count": null,
   "metadata": {},
   "outputs": [],
   "source": []
  },
  {
   "cell_type": "code",
   "execution_count": null,
   "metadata": {},
   "outputs": [],
   "source": []
  },
  {
   "cell_type": "code",
   "execution_count": null,
   "metadata": {},
   "outputs": [],
   "source": []
  },
  {
   "cell_type": "code",
   "execution_count": 213,
   "metadata": {},
   "outputs": [],
   "source": [
    "joint = 'nose_Rwri_delta'\n",
    "jointnum = 79"
   ]
  },
  {
   "cell_type": "code",
   "execution_count": 214,
   "metadata": {},
   "outputs": [],
   "source": [
    "boi1 = pd.read_csv('./output/data/scaled/snatch_1_time_data.csv')\n",
    "boi2 = pd.read_csv('./output/data/scaled/snatch_2_time_data.csv')\n",
    "boi3 = pd.read_csv('./output/data/scaled/snatch_3_time_data.csv')\n",
    "boi4 = pd.read_csv('./output/data/scaled/snatch_4_time_data.csv')\n",
    "boi5 = pd.read_csv('./output/data/scaled/snatch_5_time_data.csv')\n",
    "boi6 = pd.read_csv('./output/data/scaled/snatch_6_time_data.csv')\n",
    "boi7 = pd.read_csv('./output/data/scaled/snatch_7_time_data.csv')\n",
    "boi8 = pd.read_csv('./output/data/scaled/snatch_8_time_data.csv')\n",
    "boi9 = pd.read_csv('./output/data/scaled/snatch_9_time_data.csv')\n",
    "boi10 = pd.read_csv('./output/data/scaled/snatch_10_time_data.csv')\n",
    "boi11 = pd.read_csv('./output/data/scaled/snatch_11_time_data.csv')\n",
    "boi12 = pd.read_csv('./output/data/scaled/snatch_12_time_data.csv')\n",
    "boi13 = pd.read_csv('./output/data/scaled/snatch_13_time_data.csv')\n",
    "boi14 = pd.read_csv('./output/data/scaled/snatch_14_time_data.csv')\n",
    "boi15 = pd.read_pickle('./output/data/supp/snatch_15_time_data')\n",
    "boi16 = pd.read_pickle('./output/data/supp/snatch_16_time_data')\n",
    "boi17 = pd.read_pickle('./output/data/supp/snatch_17_time_data')\n",
    "boi18 = pd.read_pickle('./output/data/supp/snatch_18_time_data')\n",
    "boi19 = pd.read_pickle('./output/data/supp/snatch_19_time_data')\n",
    "boi20 = pd.read_pickle('./output/data/supp/snatch_20_time_data')\n"
   ]
  },
  {
   "cell_type": "code",
   "execution_count": 215,
   "metadata": {},
   "outputs": [],
   "source": [
    "y1 = boi1.loc[:, joint].values.tolist()\n",
    "x1 = list(range(len(y1)))\n",
    "\n",
    "y2 = boi2.loc[:, joint].values.tolist()\n",
    "x2 = list(range(len(y2)))\n",
    "\n",
    "y3 = boi3.loc[:, joint].values.tolist()\n",
    "x3 = list(range(len(y3)))\n",
    "\n",
    "y4 = boi4.loc[:, joint].values.tolist()\n",
    "x4 = list(range(len(y4)))\n",
    "\n",
    "y5 = boi5.loc[:, joint].values.tolist()\n",
    "x5 = list(range(len(y5)))\n",
    "\n",
    "y6 = boi6.loc[:, joint].values.tolist()\n",
    "x6 = list(range(len(y6)))\n",
    "\n",
    "y7 = boi7.loc[:, joint].values.tolist()\n",
    "x7 = list(range(len(y7)))\n",
    "\n",
    "y8 = boi8.loc[:, joint].values.tolist()\n",
    "x8 = list(range(len(y8)))\n",
    "\n",
    "y9 = boi9.loc[:, joint].values.tolist()\n",
    "x9 = list(range(len(y9)))\n",
    "\n",
    "y10 = boi10.loc[:, joint].values.tolist()\n",
    "x10 = list(range(len(y10)))\n",
    "\n",
    "y11 = boi11.loc[:, joint].values.tolist()\n",
    "x11 = list(range(len(y11)))\n",
    "\n",
    "y12 = boi12.loc[:, joint].values.tolist()\n",
    "x12 = list(range(len(y12)))\n",
    "\n",
    "y13 = boi13.loc[:, joint].values.tolist()\n",
    "x13 = list(range(len(y13)))\n",
    "\n",
    "y14 = boi14.loc[:, joint].values.tolist()\n",
    "x14 = list(range(len(y14)))\n",
    "\n",
    "y15 = boi15.loc[:, jointnum].values.tolist()\n",
    "x15 = list(range(len(y15)))\n",
    "\n",
    "y16 = boi16.loc[:, jointnum].values.tolist()\n",
    "x16 = list(range(len(y16)))\n",
    "\n",
    "y17 = boi17.loc[:, jointnum].values.tolist()\n",
    "x17 = list(range(len(y17)))\n",
    "\n",
    "y18 = boi18.loc[:, jointnum].values.tolist()\n",
    "x18 = list(range(len(y18)))\n",
    "\n",
    "y19 = boi19.loc[:, jointnum].values.tolist()\n",
    "x19 = list(range(len(y19)))\n",
    "\n",
    "y20 = boi20.loc[:, jointnum].values.tolist()\n",
    "x20 = list(range(len(y20)))\n",
    "\n",
    "\n"
   ]
  },
  {
   "cell_type": "code",
   "execution_count": 216,
   "metadata": {},
   "outputs": [
    {
     "data": {
      "text/plain": [
       "[<matplotlib.lines.Line2D at 0x1a2e0ed668>]"
      ]
     },
     "execution_count": 216,
     "metadata": {},
     "output_type": "execute_result"
    },
    {
     "data": {
      "image/png": "[encoded data removed]",
      "text/plain": [
       "<Figure size 432x288 with 1 Axes>"
      ]
     },
     "metadata": {
      "needs_background": "light"
     },
     "output_type": "display_data"
    }
   ],
   "source": [
    "# plot the movement of a specfied joint over the course of a video for all training data from snatches\n",
    "\n",
    "plt.plot(x1, y1)\n",
    "plt.plot(x2, y2)\n",
    "plt.plot(x3, y3)\n",
    "plt.plot(x4, y4)\n",
    "plt.plot(x5, y5)\n",
    "plt.plot(x6, y6)\n",
    "plt.plot(x7, y7)\n",
    "plt.plot(x8, y8)\n",
    "plt.plot(x9, y9)\n",
    "plt.plot(x10, y10)\n",
    "plt.plot(x11, y11)\n",
    "plt.plot(x12, y12)\n",
    "plt.plot(x13, y13)\n",
    "plt.plot(x14, y14)\n",
    "plt.plot(x15, y15)\n",
    "plt.plot(x16, y16)\n",
    "plt.plot(x17, y17)\n",
    "plt.plot(x18, y18)\n",
    "plt.plot(x19, y19)\n",
    "plt.plot(x20, y20)\n"
   ]
  },
  {
   "cell_type": "code",
   "execution_count": 217,
   "metadata": {},
   "outputs": [],
   "source": [
    "boi1 = pd.read_csv('./output/data/scaled/clean_1_time_data.csv')\n",
    "boi2 = pd.read_csv('./output/data/scaled/clean_2_time_data.csv')\n",
    "boi3 = pd.read_csv('./output/data/scaled/clean_3_time_data.csv')\n",
    "boi4 = pd.read_csv('./output/data/scaled/clean_4_time_data.csv')\n",
    "boi5 = pd.read_csv('./output/data/scaled/clean_5_time_data.csv')\n",
    "boi6 = pd.read_csv('./output/data/scaled/clean_6_time_data.csv')\n",
    "boi7 = pd.read_csv('./output/data/scaled/clean_7_time_data.csv')\n",
    "boi8 = pd.read_csv('./output/data/scaled/clean_8_time_data.csv')\n",
    "boi9 = pd.read_csv('./output/data/scaled/clean_9_time_data.csv')\n",
    "boi10 = pd.read_csv('./output/data/scaled/clean_10_time_data.csv')\n",
    "boi11 = pd.read_csv('./output/data/scaled/clean_11_time_data.csv')\n",
    "boi12 = pd.read_csv('./output/data/scaled/clean_12_time_data.csv')\n",
    "boi13 = pd.read_csv('./output/data/scaled/clean_13_time_data.csv')\n",
    "boi14 = pd.read_csv('./output/data/scaled/clean_14_time_data.csv')\n",
    "boi15 = pd.read_pickle('./output/data/supp/clean_15_time_data')\n",
    "boi16 = pd.read_pickle('./output/data/supp/clean_16_time_data')\n",
    "boi17 = pd.read_pickle('./output/data/supp/clean_17_time_data')\n",
    "boi18 = pd.read_pickle('./output/data/supp/clean_18_time_data')\n"
   ]
  },
  {
   "cell_type": "code",
   "execution_count": 218,
   "metadata": {},
   "outputs": [],
   "source": [
    "y1 = boi1.loc[:, joint].values.tolist()\n",
    "x1 = list(range(len(y1)))\n",
    "\n",
    "y2 = boi2.loc[:, joint].values.tolist()\n",
    "x2 = list(range(len(y2)))\n",
    "\n",
    "y3 = boi3.loc[:, joint].values.tolist()\n",
    "x3 = list(range(len(y3)))\n",
    "\n",
    "y4 = boi4.loc[:, joint].values.tolist()\n",
    "x4 = list(range(len(y4)))\n",
    "\n",
    "y5 = boi5.loc[:, joint].values.tolist()\n",
    "x5 = list(range(len(y5)))\n",
    "\n",
    "y6 = boi6.loc[:, joint].values.tolist()\n",
    "x6 = list(range(len(y6)))\n",
    "\n",
    "y7 = boi7.loc[:, joint].values.tolist()\n",
    "x7 = list(range(len(y7)))\n",
    "\n",
    "y8 = boi8.loc[:, joint].values.tolist()\n",
    "x8 = list(range(len(y8)))\n",
    "\n",
    "y9 = boi9.loc[:, joint].values.tolist()\n",
    "x9 = list(range(len(y9)))\n",
    "\n",
    "y10 = boi10.loc[:, joint].values.tolist()\n",
    "x10 = list(range(len(y10)))\n",
    "\n",
    "y11 = boi11.loc[:, joint].values.tolist()\n",
    "x11 = list(range(len(y11)))\n",
    "\n",
    "y12 = boi12.loc[:, joint].values.tolist()\n",
    "x12 = list(range(len(y12)))\n",
    "\n",
    "y13 = boi13.loc[:, joint].values.tolist()\n",
    "x13 = list(range(len(y13)))\n",
    "\n",
    "y14 = boi14.loc[:, joint].values.tolist()\n",
    "x14 = list(range(len(y14)))\n",
    "\n",
    "y15 = boi15.loc[:, jointnum].values.tolist()\n",
    "x15 = list(range(len(y15)))\n",
    "\n",
    "y16 = boi16.loc[:, jointnum].values.tolist()\n",
    "x16 = list(range(len(y16)))\n",
    "\n",
    "y17 = boi17.loc[:, jointnum].values.tolist()\n",
    "x17 = list(range(len(y17)))\n",
    "\n",
    "y18 = boi18.loc[:, jointnum].values.tolist()\n",
    "x18 = list(range(len(y18)))\n"
   ]
  },
  {
   "cell_type": "code",
   "execution_count": 219,
   "metadata": {},
   "outputs": [
    {
     "data": {
      "text/plain": [
       "[<matplotlib.lines.Line2D at 0x1a2e306b38>]"
      ]
     },
     "execution_count": 219,
     "metadata": {},
     "output_type": "execute_result"
    },
    {
     "data": {
      "image/png": "[encoded data removed]",
      "text/plain": [
       "<Figure size 432x288 with 1 Axes>"
      ]
     },
     "metadata": {
      "needs_background": "light"
     },
     "output_type": "display_data"
    }
   ],
   "source": [
    "# plot the movement of a specfied joint over the course of a video for all training data from cleans\n",
    "\n",
    "plt.plot(x1, y1)\n",
    "plt.plot(x2, y2)\n",
    "plt.plot(x3, y3)\n",
    "plt.plot(x4, y4)\n",
    "plt.plot(x5, y5)\n",
    "plt.plot(x6, y6)\n",
    "plt.plot(x7, y7)\n",
    "plt.plot(x8, y8)\n",
    "plt.plot(x9, y9)\n",
    "plt.plot(x10, y10)\n",
    "plt.plot(x11, y11)\n",
    "plt.plot(x12, y12)\n",
    "plt.plot(x13, y13)\n",
    "plt.plot(x14, y14)\n",
    "plt.plot(x15, y15)\n",
    "plt.plot(x16, y16)\n",
    "plt.plot(x17, y17)\n",
    "plt.plot(x18, y18)\n"
   ]
  },
  {
   "cell_type": "code",
   "execution_count": 220,
   "metadata": {},
   "outputs": [],
   "source": [
    "# plot all the joints in a single frame\n",
    "\n",
    "# x = list(map(lambda x: float(x.split(',')[0].split('(')[1]), boi.loc[1, '0':'17']))\n",
    "# y = list(map(lambda x: (1184 / 256) - float(x.split(',')[1].split(')')[0]), boi.loc[1, '0':'17']))"
   ]
  },
  {
   "cell_type": "code",
   "execution_count": null,
   "metadata": {},
   "outputs": [],
   "source": []
  },
  {
   "cell_type": "code",
   "execution_count": null,
   "metadata": {},
   "outputs": [],
   "source": []
  },
  {
   "cell_type": "code",
   "execution_count": null,
   "metadata": {},
   "outputs": [],
   "source": []
  },
  {
   "cell_type": "code",
   "execution_count": null,
   "metadata": {},
   "outputs": [],
   "source": []
  },
  {
   "cell_type": "code",
   "execution_count": null,
   "metadata": {},
   "outputs": [],
   "source": []
  },
  {
   "cell_type": "code",
   "execution_count": null,
   "metadata": {},
   "outputs": [],
   "source": []
  },
  {
   "cell_type": "code",
   "execution_count": null,
   "metadata": {},
   "outputs": [],
   "source": []
  },
  {
   "cell_type": "code",
   "execution_count": null,
   "metadata": {},
   "outputs": [],
   "source": []
  },
  {
   "cell_type": "code",
   "execution_count": null,
   "metadata": {},
   "outputs": [],
   "source": []
  },
  {
   "cell_type": "code",
   "execution_count": null,
   "metadata": {},
   "outputs": [],
   "source": []
  },
  {
   "cell_type": "code",
   "execution_count": null,
   "metadata": {},
   "outputs": [],
   "source": [
    "print('snatch_deadlift: %d\\n' % snatch_deadlift_tot)\n",
    "print('snatch: %d\\n' % snatch_tot)\n",
    "print('overhead_squat: %d\\n' % overhead_squat_tot)\n",
    "print('power_snatch: %d\\n' % power_snatch_tot)\n",
    "print('deadlift: %d\\n' % deadlift_tot)\n",
    "print('clean: %d\\n' % clean_tot)\n",
    "print('front_squat: %d\\n' % front_squat_tot)\n",
    "print('power_clean: %d\\n' % power_clean_tot)"
   ]
  },
  {
   "cell_type": "code",
   "execution_count": null,
   "metadata": {},
   "outputs": [],
   "source": []
  },
  {
   "cell_type": "code",
   "execution_count": null,
   "metadata": {},
   "outputs": [],
   "source": [
    "# NEIGHBORS\n",
    "\n",
    "# create and fit model \n",
    "neigh = KNeighborsClassifier(n_neighbors = 5)\n",
    "\n",
    "# fit the model\n",
    "neigh.fit(x_train, y_train)\n",
    "\n",
    "# ROC data\n",
    "# predicted_svm = np.array(svm.predict_proba(x_test))[:,1]\n",
    "\n",
    "# predict\n",
    "y_pred = neigh.predict(x_test)\n",
    "\n",
    "# print\n",
    "print('nn accuracy: %s' % metrics.accuracy_score(y_test, y_pred))\n"
   ]
  },
  {
   "cell_type": "code",
   "execution_count": null,
   "metadata": {},
   "outputs": [],
   "source": [
    "# NEURAL NETWORK\n",
    "\n",
    "# create and fit model \n",
    "mlp = MLPClassifier(solver='lbfgs', alpha=1e-5, hidden_layer_sizes=(5, 2), random_state=1)\n",
    "\n",
    "# fit the model\n",
    "mlp.fit(x_train, y_train)\n",
    "\n",
    "# ROC data\n",
    "# predicted_svm = np.array(svm.predict_proba(x_test))[:,1]\n",
    "\n",
    "# predict\n",
    "y_pred = mlp.predict(x_test)\n",
    "\n",
    "# print\n",
    "print('nn accuracy: %s' % metrics.accuracy_score(y_test, y_pred))\n"
   ]
  },
  {
   "cell_type": "code",
   "execution_count": null,
   "metadata": {},
   "outputs": [],
   "source": [
    "# GAUSSIAN PROCESS - ummmmmm.... consistently 80+ %....\n",
    "\n",
    "# make kernel\n",
    "kernel = 1.0 * RBF(1.0) \n",
    "\n",
    "# create and fit model \n",
    "gpc = GaussianProcessClassifier(kernel = kernel, random_state = 0).fit(x_train, y_train)\n",
    "\n",
    "# ROC data\n",
    "# predicted_svm = np.array(svm.predict_proba(x_test))[:,1]\n",
    "\n",
    "# predict\n",
    "y_pred = gpc.predict(x_test)\n",
    "\n",
    "# print\n",
    "print('gpc accuracy: %s' % metrics.accuracy_score(y_test, y_pred))\n"
   ]
  },
  {
   "cell_type": "code",
   "execution_count": null,
   "metadata": {},
   "outputs": [],
   "source": [
    "# SUPPORT VECTOR MACHINE - maybe....\n",
    "\n",
    "# create model \n",
    "sv = svm.SVC(gamma = 'scale')\n",
    "\n",
    "# fit the model\n",
    "sv.fit(x_train, y_train)\n",
    "\n",
    "# ROC data\n",
    "# predicted_svm = np.array(svm.predict_proba(x_test))[:,1]\n",
    "\n",
    "# predict\n",
    "y_pred = sv.predict(x_test)\n",
    "\n",
    "# print\n",
    "print('svm accuracy: %s' % metrics.accuracy_score(y_test, y_pred))\n"
   ]
  },
  {
   "cell_type": "code",
   "execution_count": null,
   "metadata": {},
   "outputs": [],
   "source": [
    "# K NEAREST NEIGHBORS - not good, on coordinates/values, maybe, movement.. no\n",
    "\n",
    "# create model \n",
    "knn = KNeighborsClassifier(n_neighbors = 25)\n",
    "\n",
    "# fit the model\n",
    "knn.fit(x_train, y_train) \n",
    "\n",
    "# ROC data\n",
    "predicted_knn = np.array(knn.predict_proba(x_test))[:,1]\n",
    "\n",
    "# predict\n",
    "y_pred = knn.predict(x_test)\n",
    "\n",
    "# print\n",
    "print('neighbors accuracy: %s' % metrics.accuracy_score(y_test, y_pred))\n"
   ]
  },
  {
   "cell_type": "code",
   "execution_count": null,
   "metadata": {},
   "outputs": [],
   "source": [
    "# STOCHASTIC GRADIENT DESCENT - nah\n",
    "\n",
    "# create model \n",
    "sgd = SGDClassifier(loss = 'modified_huber', \n",
    "                    penalty = 'l2', \n",
    "                    max_iter = 1000)\n",
    "\n",
    "# fit the model\n",
    "sgd.fit(x_train, y_train)  \n",
    "\n",
    "# ROC data\n",
    "predicted_sgd = np.array(sgd.predict_proba(x_test))[:,1]\n",
    "\n",
    "# predict\n",
    "y_pred = sgd.predict(x_test)\n",
    "\n",
    "# print\n",
    "print('sgd accuracy: %s' % metrics.accuracy_score(y_test, y_pred))\n",
    "\n"
   ]
  },
  {
   "cell_type": "code",
   "execution_count": null,
   "metadata": {},
   "outputs": [],
   "source": []
  },
  {
   "cell_type": "code",
   "execution_count": null,
   "metadata": {},
   "outputs": [],
   "source": []
  },
  {
   "cell_type": "code",
   "execution_count": null,
   "metadata": {},
   "outputs": [],
   "source": []
  }
 ],
 "metadata": {
  "kernelspec": {
   "display_name": "Python 3",
   "language": "python",
   "name": "python3"
  },
  "language_info": {
   "codemirror_mode": {
    "name": "ipython",
    "version": 3
   },
   "file_extension": ".py",
   "mimetype": "text/x-python",
   "name": "python",
   "nbconvert_exporter": "python",
   "pygments_lexer": "ipython3",
   "version": "3.7.3"
  }
 },
 "nbformat": 4,
 "nbformat_minor": 2
}
